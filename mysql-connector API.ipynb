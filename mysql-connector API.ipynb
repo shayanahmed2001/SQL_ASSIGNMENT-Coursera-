{
 "cells": [
  {
   "cell_type": "code",
   "execution_count": 1,
   "id": "1188308e",
   "metadata": {},
   "outputs": [],
   "source": [
    "import mysql.connector"
   ]
  },
  {
   "cell_type": "code",
   "execution_count": 2,
   "id": "b3136dcd",
   "metadata": {},
   "outputs": [
    {
     "name": "stdout",
     "output_type": "stream",
     "text": [
      "1\n"
     ]
    }
   ],
   "source": [
    "mydb = mysql.connector.connect(host=\"localhost\",user=\"root\",passwd=\"root\")\n",
    "if (mydb):\n",
    "    print(1)\n"
   ]
  },
  {
   "cell_type": "code",
   "execution_count": 3,
   "id": "8455bb59",
   "metadata": {},
   "outputs": [
    {
     "data": {
      "text/plain": [
       "<mysql.connector.connection_cext.CMySQLConnection at 0x1edd1f69850>"
      ]
     },
     "execution_count": 3,
     "metadata": {},
     "output_type": "execute_result"
    }
   ],
   "source": [
    "mydb"
   ]
  },
  {
   "cell_type": "code",
   "execution_count": 4,
   "id": "347c7ac4",
   "metadata": {},
   "outputs": [],
   "source": [
    "def display(table):\n",
    "    for row in table:\n",
    "        print(row)"
   ]
  },
  {
   "cell_type": "code",
   "execution_count": 5,
   "id": "9d5e0101",
   "metadata": {},
   "outputs": [
    {
     "name": "stdout",
     "output_type": "stream",
     "text": [
      "('chicago_data',)\n",
      "('employees',)\n",
      "('information_schema',)\n",
      "('mysql',)\n",
      "('performance_schema',)\n",
      "('sales',)\n",
      "('sys',)\n"
     ]
    }
   ],
   "source": [
    "mycursor = mydb.cursor()\n",
    "mycursor.execute(\"Show DATABASES\")\n",
    "display(mycursor)"
   ]
  },
  {
   "cell_type": "code",
   "execution_count": 7,
   "id": "df2be926",
   "metadata": {
    "scrolled": true
   },
   "outputs": [
    {
     "name": "stdout",
     "output_type": "stream",
     "text": [
      "('chicagocensusdata',)\n",
      "('chicagocrimedata',)\n",
      "('chicagopublicschools',)\n"
     ]
    }
   ],
   "source": [
    "mycursor.execute(\"Use Chicago_data\")\n",
    "mycursor.execute(\"Show Tables\")\n",
    "display(mycursor)"
   ]
  },
  {
   "cell_type": "code",
   "execution_count": 8,
   "id": "3343b677",
   "metadata": {
    "scrolled": true
   },
   "outputs": [
    {
     "name": "stdout",
     "output_type": "stream",
     "text": [
      "(353,)\n"
     ]
    }
   ],
   "source": [
    "mycursor.execute(\"Select COUNT(*) from chicagocrimedata\")\n",
    "display(mycursor)"
   ]
  },
  {
   "cell_type": "code",
   "execution_count": 9,
   "id": "1ebc2d30",
   "metadata": {},
   "outputs": [
    {
     "name": "stdout",
     "output_type": "stream",
     "text": [
      "('West Garfield Park',)\n",
      "('South Lawndale',)\n",
      "('Fuller Park',)\n",
      "('Riverdale',)\n"
     ]
    }
   ],
   "source": [
    "mycursor.execute(\"Select COMMUNITY_AREA_NAME from chicagocensusdata Where PER_CAPITA_INCOME<11000\")\n",
    "display(mycursor)"
   ]
  },
  {
   "cell_type": "code",
   "execution_count": 10,
   "id": "d9d29f21",
   "metadata": {},
   "outputs": [
    {
     "name": "stdout",
     "output_type": "stream",
     "text": [
      "('HL266884',)\n",
      "('HK238408',)\n"
     ]
    }
   ],
   "source": [
    "mycursor.execute(\"Select CASE_NUMBER from chicagocrimedata Where DESCRIPTION like '%Minor%'\")\n",
    "display(mycursor)"
   ]
  },
  {
   "cell_type": "code",
   "execution_count": 20,
   "id": "52ae8017",
   "metadata": {},
   "outputs": [
    {
     "name": "stdout",
     "output_type": "stream",
     "text": [
      "('HN144152',)\n"
     ]
    }
   ],
   "source": [
    "mycursor.execute(\"Select CASE_NUMBER from chicagocrimedata Where PRIMARY_TYPE = 'KIDNAPPING' and  DESCRIPTION like '%Child%'\")\n",
    "display(mycursor)"
   ]
  },
  {
   "cell_type": "code",
   "execution_count": 11,
   "id": "6e57f9fb",
   "metadata": {},
   "outputs": [
    {
     "name": "stdout",
     "output_type": "stream",
     "text": [
      "('CRIMINAL DAMAGE',)\n",
      "('CRIMINAL TRESPASS',)\n",
      "('NARCOTICS',)\n"
     ]
    }
   ],
   "source": [
    "mycursor.execute(\"Select Distinct(PRIMARY_TYPE) from chicagocrimedata Where LOCATION_DESCRIPTION like '%School%' Order By PRIMARY_TYPE \")\n",
    "display(mycursor)"
   ]
  },
  {
   "cell_type": "code",
   "execution_count": 12,
   "id": "9154d500",
   "metadata": {},
   "outputs": [
    {
     "name": "stdout",
     "output_type": "stream",
     "text": [
      "('ES', Decimal('49.4371'))\n",
      "('HS', Decimal('56.8286'))\n",
      "('MS', Decimal('53.0000'))\n"
     ]
    }
   ],
   "source": [
    "mycursor.execute(\"Select  E_M_H,AVG(SAFETY_SCORE) from chicagopublicschools Group By E_M_H\")\n",
    "display(mycursor)"
   ]
  },
  {
   "cell_type": "code",
   "execution_count": 13,
   "id": "8968f903",
   "metadata": {},
   "outputs": [
    {
     "name": "stdout",
     "output_type": "stream",
     "text": [
      "('Riverdale',)\n",
      "('Fuller Park',)\n",
      "('Englewood',)\n",
      "('North Lawndale',)\n",
      "('East Garfield Park',)\n"
     ]
    }
   ],
   "source": [
    "mycursor.execute(\"Select  COMMUNITY_AREA_NAME from chicagocensusdata Order By PERCENT_HOUSEHOLDS_BELOW_POVERTY Desc LIMIT 5\")\n",
    "display(mycursor)"
   ]
  },
  {
   "cell_type": "code",
   "execution_count": 14,
   "id": "25d30b64",
   "metadata": {},
   "outputs": [
    {
     "name": "stdout",
     "output_type": "stream",
     "text": [
      "(25,)\n"
     ]
    }
   ],
   "source": [
    "mycursor.execute(\"Select  COMMUNITY_AREA_NUMBER from chicagocrimedata Group By COMMUNITY_AREA_NUMBER Order By COUNT(COMMUNITY_AREA_NUMBER) DESC LIMIT 1\") \n",
    "display(mycursor)"
   ]
  },
  {
   "cell_type": "code",
   "execution_count": 16,
   "id": "1f485bb9",
   "metadata": {
    "scrolled": true
   },
   "outputs": [
    {
     "name": "stdout",
     "output_type": "stream",
     "text": [
      "('Riverdale',)\n"
     ]
    }
   ],
   "source": [
    "mycursor.execute(\"Select  COMMUNITY_AREA_NAME from chicagocensusdata Where HARDSHIP_INDEX = (Select MAX(HARDSHIP_INDEX) from chicagocensusdata)\")\n",
    "display(mycursor)"
   ]
  },
  {
   "cell_type": "code",
   "execution_count": 17,
   "id": "96804063",
   "metadata": {},
   "outputs": [
    {
     "name": "stdout",
     "output_type": "stream",
     "text": [
      "('Austin',)\n"
     ]
    }
   ],
   "source": [
    "mycursor.execute(\"Select  C.COMMUNITY_AREA_NAME from chicagocensusdata C Join chicagocrimedata C2 ON C.COMMUNITY_AREA_NUMBER = C2.COMMUNITY_AREA_NUMBER Group By C.COMMUNITY_AREA_NAME Order By COUNT(C2.COMMUNITY_AREA_NUMBER) Desc LIMIT 1\") \n",
    "display(mycursor)"
   ]
  }
 ],
 "metadata": {
  "kernelspec": {
   "display_name": "Python 3 (ipykernel)",
   "language": "python",
   "name": "python3"
  },
  "language_info": {
   "codemirror_mode": {
    "name": "ipython",
    "version": 3
   },
   "file_extension": ".py",
   "mimetype": "text/x-python",
   "name": "python",
   "nbconvert_exporter": "python",
   "pygments_lexer": "ipython3",
   "version": "3.9.13"
  }
 },
 "nbformat": 4,
 "nbformat_minor": 5
}
